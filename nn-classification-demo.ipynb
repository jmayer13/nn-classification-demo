{
 "cells": [
  {
   "cell_type": "code",
   "execution_count": 34,
   "metadata": {},
   "outputs": [],
   "source": [
    "import numpy as np\n"
   ]
  },
  {
   "cell_type": "code",
   "execution_count": 35,
   "metadata": {},
   "outputs": [],
   "source": [
    "# Xtr (of size 50,000 x 32 x 32 x 3) holds all the images in the training set, and a corresponding 1-dimensional array\n",
    "# Ytr (of length 50,000) holds the training labels (from 0 to 9):\n",
    "# Xtr_rows = Xtr.reshape(Xtr.shape[0], 32 * 32 * 3) # Xtr_rows becomes 50000 x 3072\n",
    "# Xte_rows = Xte.reshape(Xte.shape[0], 32 * 32 * 3) # Xte_rows becomes 10000 x 3072\n",
    "# e = evaluation\n",
    "# nn.train(Xtr_rows, Ytr)\n",
    "\n",
    "\n",
    "class NearestNeighbor(object):\n",
    "    def __init__(self):\n",
    "        pass\n",
    "\n",
    "    def train(self, trainingSet, labelSet):\n",
    "        \"\"\" trainingSet is N x D where each row is an example. labelSet is 1-dimension of size N \"\"\"\n",
    "        # the nearest neighbor classifier simply remembers all the training data\n",
    "        self.trainingSet = trainingSet\n",
    "        self.labelSet = labelSet\n",
    "\n",
    "    def predict(self, predictSet):\n",
    "        \"\"\" predictSet is N x D where each row is an example we wish to predict label for \"\"\"\n",
    "        num_test = predictSet.shape[0]\n",
    "        # lets make sure that the output type matches the input type\n",
    "        result = np.zeros(num_test, dtype=self.labelSet.dtype)\n",
    "        # loop over all test rows\n",
    "        for i in range(num_test):\n",
    "            # find the nearest training image to the i'th test image\n",
    "            # using the L1 distance (sum of absolute value differences)\n",
    "            absolute = list(map(lambda line: np.abs(\n",
    "                line - predictSet[i, :]), self.trainingSet))\n",
    "\n",
    "            distances = np.sum(absolute, axis=1)\n",
    "            # get the index with smallest distance\n",
    "            min_index = np.argmin(distances)\n",
    "            # predict the label of the nearest example\n",
    "            result[i] = self.labelSet[min_index]\n",
    "\n",
    "        return result"
   ]
  },
  {
   "cell_type": "code",
   "execution_count": 36,
   "metadata": {
    "scrolled": false
   },
   "outputs": [
    {
     "name": "stdout",
     "output_type": "stream",
     "text": [
      "('accuracy:', 0.9215686274509803)\n"
     ]
    }
   ],
   "source": [
    "import io\n",
    "import csv\n",
    "import random\n",
    "from pprint import pprint\n",
    "\n",
    "\n",
    "def loadDataset(filename):\n",
    "    dataset = []\n",
    "    with io.open(filename, 'rt', encoding=\"UTF8\") as csvfile:\n",
    "        lines = csv.reader(csvfile)\n",
    "        dataset = list(filter(lambda line: len(line) > 0, lines))\n",
    "    return dataset\n",
    "\n",
    "\n",
    "dataset = loadDataset('data/iris.data')\n",
    "\n",
    "rate = int(len(dataset)*0.66)\n",
    "np.random.shuffle(dataset)\n",
    "\n",
    "trainingSet = np.split(dataset, [rate])[0]\n",
    "evaluationSet = np.split(dataset, [rate])[1]\n",
    "\n",
    "trainingDataSet = np.array(\n",
    "    list(map(lambda data: data[:len(data)-1], trainingSet)), dtype=float)\n",
    "trainingLabelsSet = np.array(\n",
    "    list(map(lambda data: data[len(data)-1:][0], trainingSet)))\n",
    "\n",
    "evaluationDataSet = np.array(\n",
    "    list(map(lambda data: data[:len(data)-1], evaluationSet)), dtype=float)\n",
    "evaluationLabelsSet = np.array(\n",
    "    list(map(lambda data: data[len(data)-1:][0], evaluationSet)))\n",
    "\n",
    "nn = NearestNeighbor()\n",
    "\n",
    "nn.train(trainingDataSet, trainingLabelsSet)\n",
    "\n",
    "result = nn.predict(evaluationDataSet)\n",
    "print ('accuracy:',  np.mean(result == evaluationLabelsSet))"
   ]
  },
  {
   "cell_type": "code",
   "execution_count": null,
   "metadata": {},
   "outputs": [],
   "source": []
  }
 ],
 "metadata": {
  "kernelspec": {
   "display_name": "Python 3",
   "language": "python",
   "name": "python3"
  },
  "language_info": {
   "codemirror_mode": {
    "name": "ipython",
    "version": 2
   },
   "file_extension": ".py",
   "mimetype": "text/x-python",
   "name": "python",
   "nbconvert_exporter": "python",
   "pygments_lexer": "ipython2",
   "version": "2.7.10"
  }
 },
 "nbformat": 4,
 "nbformat_minor": 2
}
